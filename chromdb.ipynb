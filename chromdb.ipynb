{
 "cells": [
  {
   "cell_type": "markdown",
   "id": "9612bea7",
   "metadata": {},
   "source": [
    "# Practical Guide to Using ChromaDB for RAG and Semantic Search\n",
    "\n",
    "This notebook demonstrates how to create and query ChromaDB collections with both SentenceTransformers and OpenAI embeddings.\n",
    "It includes examples for: adding documents, using embedding functions, performing similarity queries, and using OpenAI for generation.\n",
    "\n"
   ]
  },
  {
   "cell_type": "markdown",
   "id": "313d6d91",
   "metadata": {},
   "source": [
    "## Setup\n",
    "Install the minimal dependencies used in this notebook. Run the following cells in order to prepare the environment."
   ]
  },
  {
   "cell_type": "code",
   "execution_count": null,
   "id": "0b6c2a25",
   "metadata": {},
   "outputs": [],
   "source": [
    "#pip install sentence-transformers openai\n",
    "#pip insatll chromadb "
   ]
  },
  {
   "cell_type": "markdown",
   "id": "aba259ae",
   "metadata": {},
   "source": [
    "## Initialize Chroma Client\n",
    "The next cells show how to create a Chroma client, both in-memory and persistent. Use `PersistentClient` to keep a local copy of the database on disk."
   ]
  },
  {
   "cell_type": "code",
   "execution_count": null,
   "id": "2a46ed8a",
   "metadata": {},
   "outputs": [],
   "source": [
    "import chromadb\n",
    "\n"
   ]
  },
  {
   "cell_type": "code",
   "execution_count": null,
   "id": "87cd0bbd",
   "metadata": {},
   "outputs": [],
   "source": [
    "# Option 1: Using default settings (in-memory)\n",
    "client = chromadb.Client()"
   ]
  },
  {
   "cell_type": "code",
   "execution_count": null,
   "id": "e18ee489",
   "metadata": {},
   "outputs": [],
   "source": [
    "# Option 2: Using persistent local storage (Recommended for real applications)\n",
    "client = chromadb.PersistentClient(path=\"./chroma_db\")"
   ]
  },
  {
   "cell_type": "code",
   "execution_count": null,
   "id": "65f21231",
   "metadata": {},
   "outputs": [],
   "source": [
    "# Create or get a collection\n",
    "collection = client.get_or_create_collection(name=\"my_docs\")"
   ]
  },
  {
   "cell_type": "markdown",
   "id": "a0e68a53",
   "metadata": {},
   "source": [
    "## Add Documents to a Collection\n",
    "The cell below shows a small sample dataset and how to add documents, metadata, and ids to a Chroma collection.\n",
    "Use meaningful metadata keys to enable filtered searches (the `where` parameter in queries).\n",
    "Tip: For larger datasets, load documents from files or a database rather than embedding them directly in the notebook."
   ]
  },
  {
   "cell_type": "code",
   "execution_count": 16,
   "id": "02364365",
   "metadata": {},
   "outputs": [],
   "source": [
    "documents = [\n",
    "    \"COVID-19 vaccines have been shown to reduce severe illness and hospitalization rates.\",\n",
    "    \"Diabetes management requires regular monitoring of blood glucose levels and lifestyle adjustments.\",\n",
    "    \"Hypertension is a leading risk factor for heart disease and stroke, requiring timely intervention.\",\n",
    "    \"MRI scans provide detailed images of soft tissues, helping in the diagnosis of neurological disorders.\",\n",
    "    \"Antibiotic resistance is a growing concern in the treatment of bacterial infections.\",\n",
    "    \"Telemedicine allows patients to consult doctors remotely, improving access to healthcare services.\",\n",
    "    \"Cancer immunotherapy leverages the body's immune system to target and destroy malignant cells.\",\n",
    "    \"Mental health disorders, such as depression and anxiety, affect millions and require comprehensive care.\",\n",
    "    \"Wearable devices can track heart rate, sleep patterns, and activity levels for personalized health insights.\",\n",
    "    \"Genetic testing can help identify individuals at risk for hereditary diseases and guide preventive strategies.\"\n",
    "]\n",
    "\n",
    "# Metadata for filtering/searching\n",
    "metadatas = [\n",
    "    {\"topic\": \"vaccines\", \"source\": \"WHO\"},\n",
    "    {\"topic\": \"diabetes\", \"source\": \"CDC\"},\n",
    "    {\"topic\": \"cardiology\", \"source\": \"MayoClinic\"},\n",
    "    {\"topic\": \"diagnostics\", \"source\": \"JohnsHopkins\"},\n",
    "    {\"topic\": \"infectious_disease\", \"source\": \"CDC\"},\n",
    "    {\"topic\": \"telemedicine\", \"source\": \"NIH\"},\n",
    "    {\"topic\": \"oncology\", \"source\": \"NCI\"},\n",
    "    {\"topic\": \"mental_health\", \"source\": \"WHO\"},\n",
    "    {\"topic\": \"wearables\", \"source\": \"Stanford\"},\n",
    "    {\"topic\": \"genetics\", \"source\": \"GenomicsInstitute\"}\n",
    "]\n",
    "\n",
    "# Unique IDs for each document\n",
    "ids = [f\"doc{i+1}\" for i in range(len(documents))]\n",
    "\n",
    "# Example: Adding to a Chroma collection\n",
    "collection.add(\n",
    "    documents=documents,\n",
    "    metadatas=metadatas,\n",
    "    ids=ids\n",
    ")\n"
   ]
  },
  {
   "cell_type": "code",
   "execution_count": 17,
   "id": "c4f10578",
   "metadata": {},
   "outputs": [
    {
     "name": "stdout",
     "output_type": "stream",
     "text": [
      "{'ids': [['doc7', 'doc1']], 'embeddings': None, 'documents': [[\"Cancer immunotherapy leverages the body's immune system to target and destroy malignant cells.\", 'COVID-19 vaccines have been shown to reduce severe illness and hospitalization rates.']], 'uris': None, 'included': ['metadatas', 'documents', 'distances'], 'data': None, 'metadatas': [[{'source': 'NCI', 'topic': 'oncology'}, {'source': 'WHO', 'topic': 'vaccines'}]], 'distances': [[0.29751405119895935, 1.3732755184173584]]}\n"
     ]
    }
   ],
   "source": [
    "query =   \"How does cancer immunotherapy work?\"\n",
    "\n",
    "results = collection.query(\n",
    "    query_texts=[query],\n",
    "    n_results=2 #top k results\n",
    ")\n",
    "\n",
    "print(results)"
   ]
  },
  {
   "cell_type": "code",
   "execution_count": 19,
   "id": "4e315d01",
   "metadata": {},
   "outputs": [
    {
     "name": "stdout",
     "output_type": "stream",
     "text": [
      "{'ids': [['doc3']], 'embeddings': None, 'documents': [['Hypertension is a leading risk factor for heart disease and stroke, requiring timely intervention.']], 'uris': None, 'included': ['metadatas', 'documents', 'distances'], 'data': None, 'metadatas': [[{'topic': 'cardiology', 'source': 'MayoClinic'}]], 'distances': [[1.4739487171173096]]}\n"
     ]
    }
   ],
   "source": [
    "query = \"How can wearable devices track heart health?\"\n",
    "\n",
    "results = collection.query(\n",
    "    query_texts=[query],\n",
    "    n_results=10,\n",
    "    where={\"topic\": \"cardiology\"}  # filter by metadata\n",
    ")\n",
    "\n",
    "print(results)"
   ]
  },
  {
   "cell_type": "markdown",
   "id": "f386b282",
   "metadata": {},
   "source": [
    "## Embeddings with SentenceTransformers\n",
    "This section demonstrates using a SentenceTransformer embedding function with Chroma.\n",
    "We use `all-MiniLM-L6-v2` for a balance of speed and accuracy. If you need better quality, swap in a larger model."
   ]
  },
  {
   "cell_type": "code",
   "execution_count": 20,
   "id": "451c70cc",
   "metadata": {},
   "outputs": [
    {
     "name": "stdout",
     "output_type": "stream",
     "text": [
      "✅ Medical documents successfully added to Chroma!\n"
     ]
    }
   ],
   "source": [
    "# Import Chroma and embedding function\n",
    "import chromadb\n",
    "from chromadb.utils import embedding_functions\n",
    "\n",
    "# ✅ Define the embedding model (Sentence Transformer)\n",
    "# all-MiniLM-L6-v2 is lightweight, fast, and good for semantic medical text search\n",
    "sentence_transformer_ef = embedding_functions.SentenceTransformerEmbeddingFunction(\n",
    "    model_name=\"all-MiniLM-L6-v2\"\n",
    ")\n",
    "\n",
    "# ✅ Initialize a persistent Chroma client (data stored on disk)\n",
    "client = chromadb.PersistentClient(path=\"./medical_chroma_db\")\n",
    "\n",
    "# ✅ Create (or get) a collection with embedding support\n",
    "collection = client.get_or_create_collection(\n",
    "    name=\"medical_documents\",\n",
    "    embedding_function=sentence_transformer_ef\n",
    ")\n",
    "\n",
    "# ✅ Medical domain documents\n",
    "documents = [\n",
    "    \"COVID-19 vaccines have been shown to reduce severe illness and hospitalization rates.\",\n",
    "    \"Diabetes management requires regular monitoring of blood glucose levels and lifestyle adjustments.\",\n",
    "    \"Hypertension is a leading risk factor for heart disease and stroke, requiring timely intervention.\",\n",
    "    \"MRI scans provide detailed images of soft tissues, helping in the diagnosis of neurological disorders.\",\n",
    "    \"Antibiotic resistance is a growing concern in the treatment of bacterial infections.\",\n",
    "    \"Telemedicine allows patients to consult doctors remotely, improving access to healthcare services.\",\n",
    "    \"Cancer immunotherapy leverages the body's immune system to target and destroy malignant cells.\",\n",
    "    \"Mental health disorders, such as depression and anxiety, affect millions and require comprehensive care.\",\n",
    "    \"Wearable devices can track heart rate, sleep patterns, and activity levels for personalized health insights.\",\n",
    "    \"Genetic testing can help identify individuals at risk for hereditary diseases and guide preventive strategies.\"\n",
    "]\n",
    "\n",
    "# ✅ Corresponding metadata for filtering/searching\n",
    "metadatas = [\n",
    "    {\"topic\": \"vaccines\", \"source\": \"WHO\"},\n",
    "    {\"topic\": \"diabetes\", \"source\": \"CDC\"},\n",
    "    {\"topic\": \"cardiology\", \"source\": \"MayoClinic\"},\n",
    "    {\"topic\": \"diagnostics\", \"source\": \"JohnsHopkins\"},\n",
    "    {\"topic\": \"infectious_disease\", \"source\": \"CDC\"},\n",
    "    {\"topic\": \"telemedicine\", \"source\": \"NIH\"},\n",
    "    {\"topic\": \"oncology\", \"source\": \"NCI\"},\n",
    "    {\"topic\": \"mental_health\", \"source\": \"WHO\"},\n",
    "    {\"topic\": \"wearables\", \"source\": \"Stanford\"},\n",
    "    {\"topic\": \"genetics\", \"source\": \"GenomicsInstitute\"}\n",
    "]\n",
    "\n",
    "# ✅ Unique IDs for each document\n",
    "ids = [f\"doc{i+1}\" for i in range(len(documents))]\n",
    "\n",
    "# ✅ Add data to the Chroma collection\n",
    "collection.add(\n",
    "    documents=documents,\n",
    "    metadatas=metadatas,\n",
    "    ids=ids\n",
    ")\n",
    "\n",
    "print(\"✅ Medical documents successfully added to Chroma!\")\n"
   ]
  },
  {
   "cell_type": "code",
   "execution_count": 22,
   "id": "a0330c7d",
   "metadata": {},
   "outputs": [
    {
     "name": "stdout",
     "output_type": "stream",
     "text": [
      "🔍 Query Results:\n",
      "{'ids': [['doc9', 'doc3']], 'embeddings': None, 'documents': [['Wearable devices can track heart rate, sleep patterns, and activity levels for personalized health insights.', 'Hypertension is a leading risk factor for heart disease and stroke, requiring timely intervention.']], 'uris': None, 'included': ['metadatas', 'documents', 'distances'], 'data': None, 'metadatas': [[{'source': 'Stanford', 'topic': 'wearables'}, {'source': 'MayoClinic', 'topic': 'cardiology'}]], 'distances': [[0.30843448638916016, 0.640539288520813]]}\n"
     ]
    }
   ],
   "source": [
    "query = \"How can wearable devices help with heart health?\"\n",
    "\n",
    "results = collection.query(\n",
    "    query_texts=[query],\n",
    "    n_results=2\n",
    ")\n",
    "\n",
    "print(\"🔍 Query Results:\")\n",
    "print(results)"
   ]
  },
  {
   "cell_type": "code",
   "execution_count": 23,
   "id": "6227c2ac",
   "metadata": {},
   "outputs": [
    {
     "name": "stdout",
     "output_type": "stream",
     "text": [
      "🔍 Query Results (manual embedding):\n",
      "{'ids': [['doc9', 'doc3']], 'embeddings': None, 'documents': [['Wearable devices can track heart rate, sleep patterns, and activity levels for personalized health insights.', 'Hypertension is a leading risk factor for heart disease and stroke, requiring timely intervention.']], 'uris': None, 'included': ['metadatas', 'documents', 'distances'], 'data': None, 'metadatas': [[{'source': 'Stanford', 'topic': 'wearables'}, {'source': 'MayoClinic', 'topic': 'cardiology'}]], 'distances': [[0.30843454599380493, 0.6405394077301025]]}\n"
     ]
    }
   ],
   "source": [
    "from sentence_transformers import SentenceTransformer\n",
    "\n",
    "# Use the same model used for collection embeddings\n",
    "model = SentenceTransformer(\"all-MiniLM-L6-v2\")\n",
    "\n",
    "query = \"How can wearable devices help with heart health?\"\n",
    "# encode returns a numpy array for a list of inputs; convert to list of lists\n",
    "query_embedding = model.encode([query]).tolist()\n",
    "\n",
    "results = collection.query(\n",
    "    query_embeddings=query_embedding,  # pass embeddings directly\n",
    "    n_results=2\n",
    ")\n",
    "\n",
    "print(\"🔍 Query Results (manual embedding):\")\n",
    "print(results)\n"
   ]
  },
  {
   "cell_type": "markdown",
   "id": "8411ab84",
   "metadata": {},
   "source": [
    "## Using OpenAI embeddings (manual)\n",
    "The following examples use OpenAI's embeddings API. Before running them, set your API key in the environment (for example in a `.env` file) and never commit secrets to version control.\n",
    "Example: export OPEN_AI_KEY=\"your_key_here\" or add to a `.env` and use python-dotenv.\n",
    "If you publish this notebook, replace any real keys with placeholders and add instructions for obtaining keys."
   ]
  },
  {
   "cell_type": "code",
   "execution_count": 25,
   "id": "2ac8ae27",
   "metadata": {},
   "outputs": [
    {
     "name": "stdout",
     "output_type": "stream",
     "text": [
      "✅ Medical documents successfully added to Chroma (custom embeddings)!\n",
      "🔍 Query Results:\n",
      "{'ids': [['doc9', 'doc3']], 'embeddings': None, 'documents': [['Wearable devices can track heart rate, sleep patterns, and activity levels for personalized health insights.', 'Hypertension is a leading risk factor for heart disease and stroke, requiring timely intervention.']], 'uris': None, 'included': ['metadatas', 'documents', 'distances'], 'data': None, 'metadatas': [[{'topic': 'wearables', 'source': 'Stanford'}, {'topic': 'cardiology', 'source': 'MayoClinic'}]], 'distances': [[0.5157197117805481, 1.3174545764923096]]}\n"
     ]
    }
   ],
   "source": [
    "# Save medical documents to Chroma using OpenAI embeddings manually\n",
    "import chromadb\n",
    "import os\n",
    "from dotenv import load_dotenv\n",
    "import openai\n",
    "\n",
    "# ✅ Load environment variables\n",
    "load_dotenv()\n",
    "openai_api_key = os.getenv(\"OPEN_AI_KEY\")\n",
    "\n",
    "# ✅ Set up OpenAI API key\n",
    "openai.api_key = openai_api_key\n",
    "\n",
    "# ✅ Custom function to generate embeddings using OpenAI API\n",
    "def generate_embedding(text: str, model: str = \"text-embedding-3-small\") -> list:\n",
    "    \"\"\"\n",
    "    Generate a vector embedding for a given text using OpenAI embeddings API.\n",
    "    \"\"\"\n",
    "    response = openai.embeddings.create(\n",
    "        input=text,\n",
    "        model=model\n",
    "    )\n",
    "    embedding_vector = response.data[0].embedding\n",
    "    return embedding_vector\n",
    "\n",
    "# ✅ Initialize a persistent Chroma client\n",
    "client = chromadb.PersistentClient(path=\"./medical_chroma_openai_db\")\n",
    "\n",
    "# ✅ Create or get collection (without Chroma embedding function)\n",
    "collection = client.get_or_create_collection(\n",
    "    name=\"medical_documents_custom\"\n",
    ")\n",
    "\n",
    "# ✅ Medical domain documents\n",
    "documents = [\n",
    "    \"COVID-19 vaccines have been shown to reduce severe illness and hospitalization rates.\",\n",
    "    \"Diabetes management requires regular monitoring of blood glucose levels and lifestyle adjustments.\",\n",
    "    \"Hypertension is a leading risk factor for heart disease and stroke, requiring timely intervention.\",\n",
    "    \"MRI scans provide detailed images of soft tissues, helping in the diagnosis of neurological disorders.\",\n",
    "    \"Antibiotic resistance is a growing concern in the treatment of bacterial infections.\",\n",
    "    \"Telemedicine allows patients to consult doctors remotely, improving access to healthcare services.\",\n",
    "    \"Cancer immunotherapy leverages the body's immune system to target and destroy malignant cells.\",\n",
    "    \"Mental health disorders, such as depression and anxiety, affect millions and require comprehensive care.\",\n",
    "    \"Wearable devices can track heart rate, sleep patterns, and activity levels for personalized health insights.\",\n",
    "    \"Genetic testing can help identify individuals at risk for hereditary diseases and guide preventive strategies.\"\n",
    "]\n",
    "\n",
    "# ✅ Corresponding metadata\n",
    "metadatas = [\n",
    "    {\"topic\": \"vaccines\", \"source\": \"WHO\"},\n",
    "    {\"topic\": \"diabetes\", \"source\": \"CDC\"},\n",
    "    {\"topic\": \"cardiology\", \"source\": \"MayoClinic\"},\n",
    "    {\"topic\": \"diagnostics\", \"source\": \"JohnsHopkins\"},\n",
    "    {\"topic\": \"infectious_disease\", \"source\": \"CDC\"},\n",
    "    {\"topic\": \"telemedicine\", \"source\": \"NIH\"},\n",
    "    {\"topic\": \"oncology\", \"source\": \"NCI\"},\n",
    "    {\"topic\": \"mental_health\", \"source\": \"WHO\"},\n",
    "    {\"topic\": \"wearables\", \"source\": \"Stanford\"},\n",
    "    {\"topic\": \"genetics\", \"source\": \"GenomicsInstitute\"}\n",
    "]\n",
    "\n",
    "# ✅ Unique IDs\n",
    "ids = [f\"doc{i+1}\" for i in range(len(documents))]\n",
    "\n",
    "# ✅ Generate embeddings manually\n",
    "embeddings = [generate_embedding(doc) for doc in documents]\n",
    "\n",
    "# ✅ Add data to Chroma collection with precomputed embeddings\n",
    "collection.add(\n",
    "    documents=documents,\n",
    "    metadatas=metadatas,\n",
    "    ids=ids,\n",
    "    embeddings=embeddings\n",
    ")\n",
    "\n",
    "print(\"✅ Medical documents successfully added to Chroma (custom embeddings)!\")\n",
    "\n",
    "# ✅ Example query embedding\n",
    "query = \"How can wearable devices help with heart health?\"\n",
    "query_embedding = generate_embedding(query)\n",
    "\n",
    "# ✅ Perform similarity search using the query embedding\n",
    "results = collection.query(\n",
    "    query_embeddings=[query_embedding],\n",
    "    n_results=2\n",
    ")\n",
    "\n",
    "print(\"🔍 Query Results:\")\n",
    "print(results)\n"
   ]
  },
  {
   "cell_type": "markdown",
   "id": "43a9e4e0",
   "metadata": {},
   "source": [
    "## Using ChromaDB with LLM as part of RAG system"
   ]
  },
  {
   "cell_type": "code",
   "execution_count": 27,
   "id": "0764dd4d",
   "metadata": {},
   "outputs": [
    {
     "name": "stdout",
     "output_type": "stream",
     "text": [
      "Wearable devices can help with heart health by tracking key metrics such as heart rate and activity levels, which provide personalized health insights. This data allows individuals to monitor their cardiovascular health closely, enabling timely interventions for issues like hypertension, a major risk factor for heart disease and stroke. Additionally, these devices can help encourage a more active lifestyle and better sleep patterns, contributing to overall heart health management.\n"
     ]
    }
   ],
   "source": [
    "from openai import OpenAI\n",
    "client_llm = OpenAI(api_key=openai_api_key)\n",
    "\n",
    "query = \"How can wearable devices help with heart health?\"\n",
    "\n",
    "query_embedding = generate_embedding(query)\n",
    "\n",
    "results = collection.query(query_embeddings=[query_embedding], n_results=3)\n",
    "context = \"\\n\".join(results[\"documents\"][0])\n",
    "\n",
    "prompt = f\"\"\"\n",
    "Answer the following question using the context below.\n",
    "\n",
    "Context:\n",
    "{context}\n",
    "\n",
    "Question: {query}\n",
    "\"\"\"\n",
    "\n",
    "response = client_llm.chat.completions.create(\n",
    "    model=\"gpt-4o-mini\",\n",
    "    messages=[{\"role\": \"user\", \"content\": prompt}]\n",
    ")\n",
    "\n",
    "print(response.choices[0].message.content)"
   ]
  }
 ],
 "metadata": {
  "kernelspec": {
   "display_name": ".venv (3.12.9)",
   "language": "python",
   "name": "python3"
  },
  "language_info": {
   "codemirror_mode": {
    "name": "ipython",
    "version": 3
   },
   "file_extension": ".py",
   "mimetype": "text/x-python",
   "name": "python",
   "nbconvert_exporter": "python",
   "pygments_lexer": "ipython3",
   "version": "3.12.9"
  }
 },
 "nbformat": 4,
 "nbformat_minor": 5
}
